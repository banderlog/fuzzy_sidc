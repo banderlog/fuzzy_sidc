{
 "cells": [
  {
   "cell_type": "markdown",
   "id": "2758ea1a-3efa-4478-834f-299b7b80e068",
   "metadata": {},
   "source": [
    "# Fuzzysearch experiments"
   ]
  },
  {
   "cell_type": "code",
   "execution_count": 3,
   "id": "04b75849-aaf2-4470-a8c6-5240109ffa8d",
   "metadata": {},
   "outputs": [],
   "source": [
    "# not for my case, it just gives score\n",
    "#import jellyfish\n",
    "\n",
    "# not for my case, it gives substring\n",
    "#import fuzzysearch\n",
    "\n",
    "# i did not get how it differs from it's father lib -- rapidfuzz\n",
    "#import thefuzz\n",
    "\n",
    "# from `import pynndescent`\n",
    "#   AttributeError: `np.infty` was removed in the NumPy 2.0 release. Use `np.inf` instead.\n",
    "#import neofuzz\n",
    "\n",
    "# import rapidfuzz \n",
    "from rapidfuzz import process"
   ]
  },
  {
   "cell_type": "code",
   "execution_count": 4,
   "id": "b55e5364-9757-4140-bd0b-0d98daf273df",
   "metadata": {},
   "outputs": [],
   "source": [
    "import rapidfuzz"
   ]
  },
  {
   "cell_type": "code",
   "execution_count": 7,
   "id": "30e20879-8bf7-4b9a-b7fe-f43e2f7d0ec3",
   "metadata": {},
   "outputs": [],
   "source": [
    "import json"
   ]
  },
  {
   "cell_type": "code",
   "execution_count": 8,
   "id": "d2ebdbfb-1faf-423b-85e8-27372e03ae5d",
   "metadata": {},
   "outputs": [],
   "source": [
    "# from 002-kba notebook\n",
    "with open('../fuzzy_sidc/set_b_2525d.json', 'r') as fp:\n",
    "    data =  json.load(fp)"
   ]
  },
  {
   "cell_type": "code",
   "execution_count": 10,
   "id": "31349fc4-0145-4cf8-85c4-635b6f18542f",
   "metadata": {},
   "outputs": [],
   "source": [
    "choices = [i.lower() for i in data.keys()]"
   ]
  },
  {
   "cell_type": "code",
   "execution_count": 12,
   "id": "6d051be3-31bf-4858-a41e-6b1a3546b932",
   "metadata": {
    "scrolled": true
   },
   "outputs": [],
   "source": [
    "# choices"
   ]
  },
  {
   "cell_type": "markdown",
   "id": "ebf5be5e-e67b-4290-aa93-3c3d1f9328a2",
   "metadata": {},
   "source": [
    "## different scorers"
   ]
  },
  {
   "cell_type": "code",
   "execution_count": 13,
   "id": "662530d9-0503-49d8-bfc4-83b33f6da489",
   "metadata": {},
   "outputs": [
    {
     "data": {
      "text/plain": [
       "[('land unit.fires.mortar.armored/mechanized/tracked', 90.0, 117),\n",
       " ('land unit.movement and maneuver.antitank/antiarmor.armored', 79.2, 68)]"
      ]
     },
     "execution_count": 13,
     "metadata": {},
     "output_type": "execute_result"
    }
   ],
   "source": [
    "# default\n",
    "# all other scorers, depending on len1/len2 ratio\n",
    "# good thing, but not for replicative things\n",
    "process.extract(\"mortar.armored\", choices, limit=2, scorer=rapidfuzz.fuzz.WRatio)"
   ]
  },
  {
   "cell_type": "code",
   "execution_count": 14,
   "id": "a863864c-b184-4e77-9684-924a900b398d",
   "metadata": {},
   "outputs": [
    {
     "data": {
      "text/plain": [
       "[('land unit.modifier_1.armored', 52.38095238095239, 380),\n",
       " ('land unit.fires.mortar.towed', 47.61904761904761, 119)]"
      ]
     },
     "execution_count": 14,
     "metadata": {},
     "output_type": "execute_result"
    }
   ],
   "source": [
    "# Compares strings\n",
    "# Calculates the normalized Indel similarity (like Levenshtein distance, but does not allow substitutions)\n",
    "# Since v3.0 this behaves similar to fuzz.ratio \n",
    "#  with the exception that this returns 0 when comparing two empty strings\n",
    "# speeds are the same\n",
    "process.extract(\"mortar.armored\", choices, limit=2, scorer=rapidfuzz.fuzz.QRatio)"
   ]
  },
  {
   "cell_type": "code",
   "execution_count": 15,
   "id": "5ad64206-0603-4900-8112-ee0cf9dbb778",
   "metadata": {},
   "outputs": [
    {
     "data": {
      "text/plain": [
       "[('land unit.modifier_1.armored', 52.38095238095239, 380),\n",
       " ('land unit.fires.mortar.towed', 47.61904761904761, 119)]"
      ]
     },
     "execution_count": 15,
     "metadata": {},
     "output_type": "execute_result"
    }
   ],
   "source": [
    "# same as QRatio\n",
    "process.extract(\"mortar.armored\", choices, limit=2, scorer=rapidfuzz.fuzz.ratio)"
   ]
  },
  {
   "cell_type": "code",
   "execution_count": 16,
   "id": "06b0b82e-6490-47b1-a74c-36060bc40b4d",
   "metadata": {},
   "outputs": [
    {
     "data": {
      "text/plain": [
       "[('land unit.modifier_1.armored', 52.38095238095238, 380),\n",
       " ('land unit.fires.mortar.towed', 47.61904761904762, 119)]"
      ]
     },
     "execution_count": 16,
     "metadata": {},
     "output_type": "execute_result"
    }
   ],
   "source": [
    "# Compares the words in the strings\n",
    "# no order at all -- set intersection\n",
    "# not for two unsplitable strings\n",
    "process.extract(\"mortar.armored\", choices, limit=2, scorer=rapidfuzz.fuzz.token_set_ratio)"
   ]
  },
  {
   "cell_type": "code",
   "execution_count": 17,
   "id": "ec33b64b-627b-43b3-bccd-730a279cc39a",
   "metadata": {},
   "outputs": [
    {
     "data": {
      "text/plain": [
       "[('land unit.modifier_1.armored', 52.38095238095239, 380),\n",
       " ('land unit.fires.mortar.towed', 47.61904761904761, 119)]"
      ]
     },
     "execution_count": 17,
     "metadata": {},
     "output_type": "execute_result"
    }
   ],
   "source": [
    "# Compares the words in the strings\n",
    "# use fuzz.ratio on lists of sorted words (aka tokens)\n",
    "# the most bizzare thing\n",
    "process.extract(\"mortar.armored\", choices, limit=2, scorer=rapidfuzz.fuzz.token_sort_ratio)"
   ]
  },
  {
   "cell_type": "code",
   "execution_count": 18,
   "id": "952abebc-f8b6-4af1-aa13-eee65135fd65",
   "metadata": {},
   "outputs": [
    {
     "data": {
      "text/plain": [
       "[('land unit.fires.mortar.armored/mechanized/tracked', 100.0, 117),\n",
       " ('land unit.movement and maneuver.antitank/antiarmor.armored', 88.0, 68)]"
      ]
     },
     "execution_count": 18,
     "metadata": {},
     "output_type": "execute_result"
    }
   ],
   "source": [
    "# Compares strings\n",
    "# WHAT WE NEED\n",
    "# search for optimal substring\n",
    "process.extract(\"mortar.armored\", choices, limit=2, scorer=rapidfuzz.fuzz.partial_ratio)"
   ]
  },
  {
   "cell_type": "code",
   "execution_count": 19,
   "id": "0c577cd9-39e6-4ccd-93e0-6254fa6ebed5",
   "metadata": {},
   "outputs": [],
   "source": [
    "# partial_ratio_alignment just provides info, cannot be used as a scorer\n",
    "# process.extract(\"mortar.armored\", choices, limit=2, scorer=rapidfuzz.fuzz.partial_ratio_alignment)"
   ]
  },
  {
   "cell_type": "code",
   "execution_count": 20,
   "id": "9f9b755a-3621-4957-9158-b2090ec09c09",
   "metadata": {},
   "outputs": [
    {
     "data": {
      "text/plain": [
       "[('land unit.fires.mortar.armored/mechanized/tracked', 100.0, 117),\n",
       " ('land unit.movement and maneuver.antitank/antiarmor.armored',\n",
       "  78.57142857142857,\n",
       "  68)]"
      ]
     },
     "execution_count": 20,
     "metadata": {},
     "output_type": "execute_result"
    }
   ],
   "source": [
    "# Compares the words in the strings\n",
    "# Similar to token_set_ratio(), but it uses partial token matching\n",
    "process.extract(\"mortar.armored\", choices, limit=2, scorer=rapidfuzz.fuzz.partial_token_set_ratio)"
   ]
  },
  {
   "cell_type": "code",
   "execution_count": 21,
   "id": "a5037ba9-308b-449e-b2ca-ce290a35beef",
   "metadata": {},
   "outputs": [
    {
     "data": {
      "text/plain": [
       "[('land unit.fires.mortar.armored/mechanized/tracked', 100.0, 117),\n",
       " ('land unit.movement and maneuver.antitank/antiarmor.armored',\n",
       "  78.57142857142857,\n",
       "  68)]"
      ]
     },
     "execution_count": 21,
     "metadata": {},
     "output_type": "execute_result"
    }
   ],
   "source": [
    "# Compares the words in the strings\n",
    "# A combination of partial_ratio() and token_sort_ratio(),\n",
    "#   for sorting and then partially matching.\n",
    "process.extract(\"mortar.armored\", choices, limit=2, scorer=rapidfuzz.fuzz.partial_token_sort_ratio)"
   ]
  },
  {
   "cell_type": "markdown",
   "id": "1e1e16e5-00ca-4dcc-a695-c868a74af8c9",
   "metadata": {},
   "source": [
    "## make choices tokenable"
   ]
  },
  {
   "cell_type": "code",
   "execution_count": 22,
   "id": "6fbf97bf-15b5-432c-b3e5-1b0fa7118c65",
   "metadata": {},
   "outputs": [],
   "source": [
    "# make choices tokenable\n",
    "choices = [i.lower().replace('.', ' ') for i in data.keys()]"
   ]
  },
  {
   "cell_type": "code",
   "execution_count": 23,
   "id": "9911996c-6679-4403-9611-095389db45b8",
   "metadata": {},
   "outputs": [
    {
     "data": {
      "text/plain": [
       "[('land unit fires mortar armored/mechanized/tracked', 100.0, 117),\n",
       " ('land unit movement and maneuver antitank/antiarmor armored', 88.0, 68)]"
      ]
     },
     "execution_count": 23,
     "metadata": {},
     "output_type": "execute_result"
    }
   ],
   "source": [
    "# Compares strings\n",
    "# WHAT WE NEED\n",
    "# search for optimal substring\n",
    "process.extract(\"mortar armored\", choices, limit=2, scorer=rapidfuzz.fuzz.partial_ratio)"
   ]
  },
  {
   "cell_type": "code",
   "execution_count": 24,
   "id": "c6e356bf-7ecf-4053-b209-7e28898b929c",
   "metadata": {},
   "outputs": [
    {
     "data": {
      "text/plain": [
       "[('land equipment vehicle armored armored fighting vehicle',\n",
       "  83.33333333333334,\n",
       "  2072),\n",
       " ('land equipment vehicle armored armored personnel carrier',\n",
       "  83.33333333333334,\n",
       "  2074)]"
      ]
     },
     "execution_count": 24,
     "metadata": {},
     "output_type": "execute_result"
    }
   ],
   "source": [
    "# Compares the words in the strings\n",
    "# A combination of partial_ratio() and token_sort_ratio(),\n",
    "#   for sorting and then partially matching.\n",
    "process.extract(\"mortar armored\", choices, limit=2, scorer=rapidfuzz.fuzz.partial_token_sort_ratio)"
   ]
  },
  {
   "cell_type": "code",
   "execution_count": 25,
   "id": "d3391c3e-db17-48d7-98db-df9e329f04c3",
   "metadata": {},
   "outputs": [
    {
     "data": {
      "text/plain": [
       "[('land equipment vehicle armored armored fighting vehicle',\n",
       "  83.33333333333334,\n",
       "  2072),\n",
       " ('land equipment vehicle armored armored personnel carrier',\n",
       "  83.33333333333334,\n",
       "  2074)]"
      ]
     },
     "execution_count": 25,
     "metadata": {},
     "output_type": "execute_result"
    }
   ],
   "source": [
    "# Compares the words in the strings\n",
    "# A combination of partial_ratio() and token_sort_ratio(),\n",
    "#   for sorting and then partially matching.\n",
    "process.extract(\"armored mortar\", choices, limit=2, scorer=rapidfuzz.fuzz.partial_token_sort_ratio)"
   ]
  },
  {
   "cell_type": "code",
   "execution_count": 26,
   "id": "e0c2f4ef-6123-47a6-85c1-a2947b203a36",
   "metadata": {},
   "outputs": [
    {
     "data": {
      "text/plain": [
       "[('land unit movement and maneuver antitank/antiarmor armored', 100.0, 68),\n",
       " ('land unit fires mortar ', 100.0, 116)]"
      ]
     },
     "execution_count": 26,
     "metadata": {},
     "output_type": "execute_result"
    }
   ],
   "source": [
    "# Compares the words in the strings\n",
    "# A combination of partial_ratio() and token_sort_ratio(),\n",
    "#   for sorting and then partially matching.\n",
    "process.extract(\"mortar armored\", choices, limit=2, scorer=rapidfuzz.fuzz.partial_token_set_ratio)"
   ]
  },
  {
   "cell_type": "markdown",
   "id": "35ed2b80-ffa9-4d2c-8e3d-dbfc6211cd92",
   "metadata": {},
   "source": [
    "## on same score, always chose 1st, Undefined always 1st"
   ]
  },
  {
   "cell_type": "code",
   "execution_count": 28,
   "id": "5d9d3c3d-20a6-4e10-b734-8a6bac5f1172",
   "metadata": {},
   "outputs": [
    {
     "data": {
      "text/plain": [
       "('land unit fires mortar ', 90.0, 116)"
      ]
     },
     "execution_count": 28,
     "metadata": {},
     "output_type": "execute_result"
    }
   ],
   "source": [
    "process.extractOne(\"mortar\", choices)"
   ]
  },
  {
   "cell_type": "code",
   "execution_count": 29,
   "id": "46ca7fab-4ac5-47cc-90bd-03cc2520572d",
   "metadata": {},
   "outputs": [
    {
     "data": {
      "text/plain": [
       "[('land unit fires mortar ', 90.0, 116),\n",
       " ('land unit fires mortar self-propelled wheeled', 90.0, 118),\n",
       " ('land unit fires mortar towed', 90.0, 119),\n",
       " ('land equipment weapon/weapon system mortar ', 90.0, 2051),\n",
       " ('land unit sustainment mortuary affairs', 75.00000000000001, 191)]"
      ]
     },
     "execution_count": 29,
     "metadata": {},
     "output_type": "execute_result"
    }
   ],
   "source": [
    "process.extract(\"mortar\", choices)"
   ]
  },
  {
   "cell_type": "code",
   "execution_count": 30,
   "id": "b2617eed-df69-450e-a577-cca55749befd",
   "metadata": {},
   "outputs": [
    {
     "data": {
      "text/plain": [
       "[('land unit fires mortar ', 100.0, 116),\n",
       " ('land unit fires mortar armored/mechanized/tracked', 100.0, 117)]"
      ]
     },
     "execution_count": 30,
     "metadata": {},
     "output_type": "execute_result"
    }
   ],
   "source": [
    "process.extract(\"mortar\", choices, limit=2, scorer=rapidfuzz.fuzz.partial_ratio)"
   ]
  },
  {
   "cell_type": "code",
   "execution_count": 31,
   "id": "3a76f730-284e-4d81-984e-1ce80073917d",
   "metadata": {},
   "outputs": [
    {
     "data": {
      "text/plain": [
       "[('land unit fires mortar ', 100.0, 116),\n",
       " ('land unit fires mortar armored/mechanized/tracked', 100.0, 117)]"
      ]
     },
     "execution_count": 31,
     "metadata": {},
     "output_type": "execute_result"
    }
   ],
   "source": [
    "process.extract(\"mortar\", choices, limit=2, scorer=rapidfuzz.fuzz.partial_token_set_ratio)"
   ]
  },
  {
   "cell_type": "code",
   "execution_count": 32,
   "id": "d6fb4df9-5cf2-40c6-8326-d4742027f918",
   "metadata": {},
   "outputs": [
    {
     "data": {
      "text/plain": [
       "[('land equipment vehicle armored armored fighting vehicle',\n",
       "  83.33333333333334,\n",
       "  2072),\n",
       " ('land equipment vehicle armored armored personnel carrier',\n",
       "  83.33333333333334,\n",
       "  2074)]"
      ]
     },
     "execution_count": 32,
     "metadata": {},
     "output_type": "execute_result"
    }
   ],
   "source": [
    "process.extract(\"mortar armored\", choices, limit=2, scorer=rapidfuzz.fuzz.partial_token_sort_ratio)"
   ]
  },
  {
   "cell_type": "markdown",
   "id": "8b74c6b3-13a8-4924-a56c-411f678aa10c",
   "metadata": {},
   "source": [
    "## SIDC set_B obtaining"
   ]
  },
  {
   "cell_type": "code",
   "execution_count": 33,
   "id": "df51b632-5fd3-40f9-a091-9a03c4a4068c",
   "metadata": {},
   "outputs": [],
   "source": [
    "choices = data.keys()"
   ]
  },
  {
   "cell_type": "code",
   "execution_count": 34,
   "id": "575468c9-2fd0-4263-b45e-af0ac87152c6",
   "metadata": {},
   "outputs": [
    {
     "data": {
      "text/plain": [
       "'130800'"
      ]
     },
     "execution_count": 34,
     "metadata": {},
     "output_type": "execute_result"
    }
   ],
   "source": [
    "data[process.extractOne(\"mortar\", choices)[0]]"
   ]
  }
 ],
 "metadata": {
  "kernelspec": {
   "display_name": "fuzzy",
   "language": "python",
   "name": "fuzzy"
  },
  "language_info": {
   "codemirror_mode": {
    "name": "ipython",
    "version": 3
   },
   "file_extension": ".py",
   "mimetype": "text/x-python",
   "name": "python",
   "nbconvert_exporter": "python",
   "pygments_lexer": "ipython3",
   "version": "3.12.3"
  }
 },
 "nbformat": 4,
 "nbformat_minor": 5
}
