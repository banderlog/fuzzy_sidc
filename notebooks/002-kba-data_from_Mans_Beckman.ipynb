{
 "cells": [
  {
   "cell_type": "markdown",
   "id": "214dfdba-2760-4408-82a3-57878acfa3d7",
   "metadata": {},
   "source": [
    "## Create data for fuzzy search"
   ]
  },
  {
   "cell_type": "code",
   "execution_count": null,
   "id": "b75559ae-55c1-4077-bab7-0d79ae456a98",
   "metadata": {},
   "outputs": [],
   "source": [
    "import pathlib\n",
    "import pandas as pd\n",
    "import json"
   ]
  },
  {
   "cell_type": "markdown",
   "id": "63a0c176-aa7e-48b1-9065-f37113c6c433",
   "metadata": {},
   "source": [
    "## Set A\n",
    "\n",
    "manually from <https://www.jcs.mil/portals/36/documents/doctrine/other_pubs/ms_2525d.pdf>"
   ]
  },
  {
   "cell_type": "code",
   "execution_count": null,
   "id": "1218e0d0-3cca-4a2e-9169-7bb62413ef79",
   "metadata": {},
   "outputs": [],
   "source": [
    "# from 001-kba notebook\n",
    "with open('set_a_raw.json', 'r') as fp:\n",
    "    tmp = json.load(fp)\n",
    "x = pd.json_normalize(tmp).T.to_dict()[0]\n",
    "\n",
    "with open('../json/set_a.json', 'w') as fp:\n",
    "    json.dump(x, fp, ensure_ascii=False, indent=2)"
   ]
  },
  {
   "cell_type": "markdown",
   "id": "c97620b9-7544-4f4c-bfe3-aeafd326de0f",
   "metadata": {},
   "source": [
    "## Set B 2525D\n",
    "\n",
    "you need to clone https://github.com/banderlog/mil-std-2525"
   ]
  },
  {
   "cell_type": "markdown",
   "id": "99f9c13b-65ba-4e56-b397-3c481ecca53d",
   "metadata": {},
   "source": [
    "### Get entities"
   ]
  },
  {
   "cell_type": "code",
   "execution_count": null,
   "id": "6096f7c9-3f8d-4c6d-a6bb-cbae4db590be",
   "metadata": {
    "scrolled": true
   },
   "outputs": [],
   "source": [
    "result = dict()\n",
    "for i in pathlib.Path('../mil-std-2525/tsv-tables/2525d/').glob('*.tsv'):\n",
    "    # get only entities\n",
    "    if 'sector' in i.stem:\n",
    "        continue\n",
    "    try:\n",
    "        x = dict()\n",
    "        # create hierarchy JSON out of sparse Entity Collection dataframe\n",
    "        #    A1 - - 1\n",
    "        #    A2 - - 2  => {EC: {A1: 1, A2: {\"\": 2, B2: {\"\": 3, C2: 4}}}}\n",
    "        #    - B2 - 3\n",
    "        #    - - C2 4\n",
    "        for _, row in pd.read_csv(i, delimiter='\\t', keep_default_na=False, dtype='str').iterrows():\n",
    "            # level A\n",
    "            if row['Entity']:\n",
    "                current_entity =  row['Entity']\n",
    "                x[current_entity] = row['Code']\n",
    "            # level B\n",
    "            elif row['Entity Type']:\n",
    "                current_entity_type = row['Entity Type']\n",
    "                # make upper level dict, if it contains more than 1 value\n",
    "                if not isinstance(x[current_entity], dict):\n",
    "                    x[current_entity] = {\"\": x[current_entity]}\n",
    "                # drop those\n",
    "                if current_entity_type != '{Reserved for future use}':\n",
    "                    x[current_entity][current_entity_type] = row['Code']\n",
    "            # level C\n",
    "            elif row['Entity Subtype']:\n",
    "                current_entity_subtype = row['Entity Subtype']\n",
    "                # make upper level dict, if it contains more than 1 value\n",
    "                if not isinstance(x[current_entity][current_entity_type], dict):\n",
    "                    x[current_entity][current_entity_type] = {\"\": x[current_entity][current_entity_type]}\n",
    "                x[current_entity][current_entity_type][current_entity_subtype] = row['Code']\n",
    "        result[i.stem] = x\n",
    "    # 3 tab errors in Control Measures.tsv\n",
    "    except Exception as e:\n",
    "        print(e)\n",
    "        print(i)"
   ]
  },
  {
   "cell_type": "markdown",
   "id": "11d734b4-649f-400c-a951-6986bba464a9",
   "metadata": {},
   "source": [
    "### Get modifiers"
   ]
  },
  {
   "cell_type": "code",
   "execution_count": null,
   "id": "37d216d7-9f7e-47ad-8757-fb7df9f47b43",
   "metadata": {
    "scrolled": true
   },
   "outputs": [],
   "source": [
    "# get only files with modifiers\n",
    "mods = [i for i in pathlib.Path('../mil-std-2525/tsv-tables/2525d/').glob('*.tsv') if 'sector' in i.stem]\n",
    "\n",
    "# add 'modifier_1' and 'modifier_2' dicts to some Entity Collections\n",
    "#   find which EC have modifiers\n",
    "for k in result.keys():\n",
    "    for i in mods:\n",
    "        if k + ' sector' in i.stem:\n",
    "            # read modifier file\n",
    "            x = dict()\n",
    "            _ = pd.read_csv(i, delimiter='\\t', keep_default_na=False, dtype='str') \n",
    "            # detect it modifier_1 or modifier_2\n",
    "            n = '1' if ('1' in i.stem) else '2'\n",
    "            modname = 'First Modifier' if (n == '1') else 'Second Modifier'\n",
    "            try:\n",
    "                for _, row in _.iterrows():\n",
    "                    # drop some\n",
    "                    if row[modname] not in ['{Reserved for future use}', 'Version Extension Flag']:\n",
    "                        x.update({row[modname]: row['Code']})\n",
    "                result[k][f'modifier_{n}'] = x\n",
    "            # we clean\n",
    "            except Exception as e:\n",
    "                print(e)\n",
    "                print(i.stem)"
   ]
  },
  {
   "cell_type": "code",
   "execution_count": null,
   "id": "7a840785-516e-4c9e-96ac-0132ab7a40d9",
   "metadata": {},
   "outputs": [],
   "source": [
    "# {EC: {A1: 1, A2: {\"\": 2, B2: {\"\": 3, C2: 4}}}} => \n",
    "#   EC.A1: 1\n",
    "#   EC.A2: 2\n",
    "#   EC.A2.B2: 3\n",
    "#   EC.A2.B2.C2: 4\n",
    "with open('../json/set_b_2525d.json', 'w') as fp:\n",
    "    x = pd.json_normalize(result).T.to_dict()[0]\n",
    "    json.dump(x, fp, ensure_ascii=False, indent=2)"
   ]
  },
  {
   "cell_type": "markdown",
   "id": "111917f7-a052-4771-a59c-f27d9d2cacaa",
   "metadata": {},
   "source": [
    "## Set B APP6D\n",
    "\n",
    "you need to clone https://github.com/spatialillusions/stanag-app6"
   ]
  },
  {
   "cell_type": "markdown",
   "id": "8c79454b-8265-4f3d-b8e7-417bf0813cb2",
   "metadata": {},
   "source": [
    "### Get entities"
   ]
  },
  {
   "cell_type": "code",
   "execution_count": null,
   "id": "71f3ccf2-ce52-4bc7-8552-c071650a9486",
   "metadata": {
    "scrolled": true
   },
   "outputs": [],
   "source": [
    "result = dict()\n",
    "for i in pathlib.Path('../stanag-app6/tsv-tables/app6d/').glob('*.tsv'):\n",
    "    # get only entities\n",
    "    if 'sector' in i.stem:\n",
    "        continue\n",
    "    try:\n",
    "        x = dict()\n",
    "        # create hierarchy JSON out of sparse Entity Collection dataframe\n",
    "        #    A1 - - 1\n",
    "        #    A2 - - 2  => {EC: {A1: 1, A2: {\"\": 2, B2: {\"\": 3, C2: 4}}}}\n",
    "        #    - B2 - 3\n",
    "        #    - - C2 4\n",
    "        for _, row in pd.read_csv(i, delimiter='\\t', keep_default_na=False, dtype='str').iterrows():\n",
    "            # level A\n",
    "            if row['Entity']:\n",
    "                current_entity =  row['Entity']\n",
    "                x[current_entity] = row['Code']\n",
    "            # level B\n",
    "            elif row['Entity Type']:\n",
    "                current_entity_type = row['Entity Type']\n",
    "                # make upper level dict, if it contains more than 1 value\n",
    "                if not isinstance(x[current_entity], dict):\n",
    "                    x[current_entity] = {\"\": x[current_entity]}\n",
    "                # drop those\n",
    "                if current_entity_type != '{Reserved for future use}':\n",
    "                    x[current_entity][current_entity_type] = row['Code']\n",
    "            # level C\n",
    "            elif row['Entity Subtype']:\n",
    "                current_entity_subtype = row['Entity Subtype']\n",
    "                # make upper level dict, if it contains more than 1 value\n",
    "                if not isinstance(x[current_entity][current_entity_type], dict):\n",
    "                    x[current_entity][current_entity_type] = {\"\": x[current_entity][current_entity_type]}\n",
    "                x[current_entity][current_entity_type][current_entity_subtype] = row['Code']\n",
    "        result[i.stem] = x\n",
    "    # 3 tab errors in Control Measures.tsv\n",
    "    except Exception as e:\n",
    "        print(e)\n",
    "        print(i)"
   ]
  },
  {
   "cell_type": "markdown",
   "id": "9bc89ccb-6e83-48d2-9068-5fba8cc60dda",
   "metadata": {},
   "source": [
    "### Get modifiers"
   ]
  },
  {
   "cell_type": "code",
   "execution_count": null,
   "id": "f9509458-6a5c-4e32-8de8-ed7bc30e5a46",
   "metadata": {
    "scrolled": true
   },
   "outputs": [],
   "source": [
    "# get only files with modifiers\n",
    "mods = [i for i in pathlib.Path('../stanag-app6/tsv-tables/app6d/').glob('*.tsv') if 'sector' in i.stem]\n",
    "\n",
    "# add 'modifier_1' and 'modifier_2' dicts to some Entity Collections\n",
    "#   find which EC have modifiers\n",
    "for k in result.keys():\n",
    "    for i in mods:\n",
    "        if k + ' sector' in i.stem:\n",
    "            # read modifier file\n",
    "            x = dict()\n",
    "            _ = pd.read_csv(i, delimiter='\\t', keep_default_na=False, dtype='str') \n",
    "            # detect it modifier_1 or modifier_2\n",
    "            n = '1' if ('1' in i.stem) else '2'\n",
    "            modname = 'First Modifier' if (n == '1') else 'Second Modifier'\n",
    "            try:\n",
    "                for _, row in _.iterrows():\n",
    "                    # drop some\n",
    "                    if row[modname] not in ['{Reserved for future use}', 'Version Extension Flag']:\n",
    "                        x.update({row[modname]: row['Code']})\n",
    "                result[k][f'modifier_{n}'] = x\n",
    "            # we clean\n",
    "            except Exception as e:\n",
    "                print(e)\n",
    "                print(i.stem)"
   ]
  },
  {
   "cell_type": "code",
   "execution_count": null,
   "id": "9df0f898-2219-4b67-9f8b-8c9cf862a1b0",
   "metadata": {},
   "outputs": [],
   "source": [
    "# {EC: {A1: 1, A2: {\"\": 2, B2: {\"\": 3, C2: 4}}}} => \n",
    "#   EC.A1: 1\n",
    "#   EC.A2: 2\n",
    "#   EC.A2.B2: 3\n",
    "#   EC.A2.B2.C2: 4\n",
    "with open('../json/set_b_app6d.json', 'w') as fp:\n",
    "    x = pd.json_normalize(result).T.to_dict()[0]\n",
    "    json.dump(x, fp, ensure_ascii=False, indent=2)"
   ]
  }
 ],
 "metadata": {
  "kernelspec": {
   "display_name": "fuzzy",
   "language": "python",
   "name": "fuzzy"
  },
  "language_info": {
   "codemirror_mode": {
    "name": "ipython",
    "version": 3
   },
   "file_extension": ".py",
   "mimetype": "text/x-python",
   "name": "python",
   "nbconvert_exporter": "python",
   "pygments_lexer": "ipython3",
   "version": "3.12.3"
  }
 },
 "nbformat": 4,
 "nbformat_minor": 5
}
