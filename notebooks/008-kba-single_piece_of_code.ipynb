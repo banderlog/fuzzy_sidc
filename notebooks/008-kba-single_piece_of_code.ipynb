{
 "cells": [
  {
   "cell_type": "markdown",
   "id": "797d4d5b-a53d-4579-8646-00061d5c4712",
   "metadata": {},
   "source": [
    "# Make all in one package\n",
    "\n",
    "milsymbol.js: <https://github.com/spatialillusions/milsymbol/releases/tag/v2.2.0>"
   ]
  },
  {
   "cell_type": "code",
   "execution_count": 1,
   "id": "e9af6a59-0fca-4af8-9d0a-94384eff8446",
   "metadata": {},
   "outputs": [],
   "source": [
    "import json\n",
    "import pathlib\n",
    "import pandas as pd"
   ]
  },
  {
   "cell_type": "markdown",
   "id": "ce1bd1e3-c508-4434-96ff-9d5245e69d70",
   "metadata": {},
   "source": [
    "## Get data from <https://github.com/spatialillusions/mil-std-2525>\n",
    "\n",
    "TODO: <https://github.com/spatialillusions/stanag-app6>"
   ]
  },
  {
   "cell_type": "markdown",
   "id": "8f5dcc7a-629e-4160-9328-0b7e6e7afe3b",
   "metadata": {},
   "source": [
    "### Get entities"
   ]
  },
  {
   "cell_type": "code",
   "execution_count": 2,
   "id": "6096f7c9-3f8d-4c6d-a6bb-cbae4db590be",
   "metadata": {
    "scrolled": true
   },
   "outputs": [],
   "source": [
    "result = dict()\n",
    "# you need to clone this repo to work\n",
    "for i in pathlib.Path('../mil-std-2525/tsv-tables/2525d/').glob('*.tsv'):\n",
    "    # get only entities\n",
    "    if 'sector' in i.stem:\n",
    "        continue\n",
    "    try:\n",
    "        x = dict()\n",
    "        # create hierarchy JSON out of sparse Entity Collection dataframe\n",
    "        #    A1 - - 1\n",
    "        #    A2 - - 2  => {EC: {A1: 1, A2: {\"\": 2, B2: {\"\": 3, C2: 4}}}}\n",
    "        #    - B2 - 3\n",
    "        #    - - C2 4\n",
    "        for _, row in pd.read_csv(i, delimiter='\\t', keep_default_na=False, dtype='str').iterrows():\n",
    "            # level A\n",
    "            if row['Entity']:\n",
    "                current_entity =  row['Entity']\n",
    "                x[current_entity] = row['Code']\n",
    "            # level B\n",
    "            elif row['Entity Type']:\n",
    "                current_entity_type = row['Entity Type']\n",
    "                # make upper level dict, if it contains more than 1 value\n",
    "                if not isinstance(x[current_entity], dict):\n",
    "                    x[current_entity] = {\"\": x[current_entity]}\n",
    "                # drop those\n",
    "                if current_entity_type != '{Reserved for future use}':\n",
    "                    x[current_entity][current_entity_type] = row['Code']\n",
    "            # level C\n",
    "            elif row['Entity Subtype']:\n",
    "                current_entity_subtype = row['Entity Subtype']\n",
    "                # make upper level dict, if it contains more than 1 value\n",
    "                if not isinstance(x[current_entity][current_entity_type], dict):\n",
    "                    x[current_entity][current_entity_type] = {\"\": x[current_entity][current_entity_type]}\n",
    "                x[current_entity][current_entity_type][current_entity_subtype] = row['Code']\n",
    "        result[i.stem] = x\n",
    "    # 3 tab errors in Control Measures.tsv\n",
    "    except Exception as e:\n",
    "        print(e)\n",
    "        print(i)"
   ]
  },
  {
   "cell_type": "markdown",
   "id": "c4766b56-975d-4982-947f-fe70b16f7111",
   "metadata": {},
   "source": [
    "### Get modifiers"
   ]
  },
  {
   "cell_type": "code",
   "execution_count": 3,
   "id": "37d216d7-9f7e-47ad-8757-fb7df9f47b43",
   "metadata": {
    "scrolled": true
   },
   "outputs": [],
   "source": [
    "# get only files with modifiers\n",
    "mods = [i for i in pathlib.Path('../mil-std-2525/tsv-tables/2525d/').glob('*.tsv') if 'sector' in i.stem]\n",
    "\n",
    "# add 'modifier_1' and 'modifier_2' dicts to some Entity Collections\n",
    "#   find which EC have modifiers\n",
    "for k in result.keys():\n",
    "    for i in mods:\n",
    "        if k + ' sector' in i.stem:\n",
    "            # read modifier file\n",
    "            x = dict()\n",
    "            _ = pd.read_csv(i, delimiter='\\t', keep_default_na=False, dtype='str') \n",
    "            # detect it modifier_1 or modifier_2\n",
    "            n = '1' if ('1' in i.stem) else '2'\n",
    "            modname = 'First Modifier' if (n == '1') else 'Second Modifier'\n",
    "            try:\n",
    "                for _, row in _.iterrows():\n",
    "                    # drop some\n",
    "                    if row[modname] not in ['{Reserved for future use}', 'Version Extension Flag']:\n",
    "                        x.update({row[modname]: row['Code']})\n",
    "                result[k][f'modifier_{n}'] = x\n",
    "            # we clean\n",
    "            except Exception as e:\n",
    "                print(e)\n",
    "                print(i.stem)"
   ]
  },
  {
   "cell_type": "code",
   "execution_count": 4,
   "id": "7a840785-516e-4c9e-96ac-0132ab7a40d9",
   "metadata": {},
   "outputs": [],
   "source": [
    "# {EC: {A1: 1, A2: {\"\": 2, B2: {\"\": 3, C2: 4}}}} => \n",
    "#   EC.A1: 1\n",
    "#   EC.A2: 2\n",
    "#   EC.A2.B2: 3\n",
    "#   EC.A2.B2.C2: 4\n",
    "with open('../json/set_b.json', 'w') as fp:\n",
    "    x = pd.json_normalize(result).T.to_dict()[0]\n",
    "    json.dump(x, fp, ensure_ascii=False, indent=2)"
   ]
  },
  {
   "cell_type": "markdown",
   "id": "ba173ca8-321a-490b-8b25-5db289534fa3",
   "metadata": {},
   "source": [
    "### Set A from <https://www.jcs.mil/portals/36/documents/doctrine/other_pubs/ms_2525d.pdf>"
   ]
  },
  {
   "cell_type": "code",
   "execution_count": 5,
   "id": "1218e0d0-3cca-4a2e-9169-7bb62413ef79",
   "metadata": {},
   "outputs": [],
   "source": [
    "# from 005-kba notebook\n",
    "with open('set_a_raw.json', 'r') as fp:\n",
    "    tmp = json.load(fp)\n",
    "x = pd.json_normalize(tmp).T.to_dict()[0]\n",
    "\n",
    "with open('../json/set_a.json', 'w') as fp:\n",
    "    json.dump(x, fp, ensure_ascii=False, indent=2)"
   ]
  },
  {
   "cell_type": "markdown",
   "id": "22e78c27-95f6-4eb8-b5b7-44d15fc35e44",
   "metadata": {},
   "source": [
    "## Class to work with data above"
   ]
  },
  {
   "cell_type": "code",
   "execution_count": 6,
   "id": "6b11106f-3211-46c7-af48-3056972351f4",
   "metadata": {},
   "outputs": [],
   "source": [
    "import json\n",
    "import pathlib\n",
    "import rapidfuzz\n",
    "from py_mini_racer import MiniRacer\n",
    "import cairosvg\n",
    "\n",
    "\n",
    "class SIDCFuzzySearcher:\n",
    "    def __init__(self, path_to_set_a: pathlib.Path, path_to_set_b: pathlib.Path, path_to_milsymbolsjs: pathlib.Path):\n",
    "        self._data_a = self._load_json(path_to_set_a)\n",
    "        self._data_b = self._load_json(path_to_set_b)\n",
    "        self._ctx = self._load_js(path_to_milsymbolsjs)\n",
    "        self._defaults_set_a = {'1': '1', '2': '0', '3': '0', '4': '1', '56': '00', '7': '0', '8': '0', '910': '00'}\n",
    "\n",
    "    def _load_json(self, path: pathlib.Path) -> dict:\n",
    "        with open(path, 'r') as fp:\n",
    "            return json.load(fp)\n",
    "\n",
    "    def _load_js(self, path: pathlib.Path) -> MiniRacer:\n",
    "        # get script from <https://github.com/spatialillusions/milsymbol/releases/tag/v2.2.0>\n",
    "        with open(path, 'r') as fp:\n",
    "            txt = fp.read()\n",
    "        ctx = MiniRacer()\n",
    "        ctx.eval(txt)\n",
    "        return ctx\n",
    "        \n",
    "    def _search_a(self, query: str, n=1) -> str:\n",
    "        \"\"\" query in set A treated like few separate words\n",
    "        \"\"\"\n",
    "        choices_a = self._data_a.keys()\n",
    "        # try to find each word separately, get uniq results\n",
    "        findings = set([self._fuzzy_search(q, choices_a, n) for q in query.split()])\n",
    "        # update default values\n",
    "        answer_a = self._defaults_set_a.copy()\n",
    "        # '3.Reality' is a key to self._data_a where '3' is a idx of set_a\n",
    "        #   self._data_a['3.Reality'] -> '0' \n",
    "        answer_a.update({f.split('.')[0]: self._data_a[f] for f in findings if f})\n",
    "        # format an answer string\n",
    "        a = f\"{answer_a['1']}{answer_a['2']}{answer_a['3']}{answer_a['4']}{answer_a['56']}{answer_a['7']}{answer_a['8']}{answer_a['910']}\"\n",
    "        return a\n",
    "    \n",
    "    def _search_b(self, query: str, mod1: str = '', mod2: str = '', n=1) -> str:\n",
    "        \"\"\" query in set B treated like a single sentence\n",
    "            each modifier is a separate single word/sentence\n",
    "        \"\"\"\n",
    "        choices = self._data_b.keys()\n",
    "        # try to find entity\n",
    "        #   'Land unit.Fires.Mortar.Armored/Mechanized/Tracked'\n",
    "        selected_key = self._fuzzy_search(query, choices, n)\n",
    "        #   '130801'\n",
    "        answer_b = self._data_b[selected_key] if selected_key else '000000'\n",
    "        #   'Land unit' -- prefix of selected_key\n",
    "        selected_b = selected_key.split('.')[0] if selected_key else selected_key\n",
    "        # try to find modifiers\n",
    "        answer_mod1 = self._search_b_mode(mod1, selected_b, suffix='.modifier_1')\n",
    "        answer_mod2 = self._search_b_mode(mod2, selected_b, suffix='.modifier_2')\n",
    "        # format an answer string\n",
    "        b = answer_b + answer_mod1 + answer_mod2\n",
    "        return b\n",
    "\n",
    "    def _search_b_mode(self, query: str | None, selected_b: str | None, suffix='.modifier_1', n=1) -> str:\n",
    "        if query and selected_b:\n",
    "            # ['Land unit.modifier_1.Attack', ..]\n",
    "            choices = [k for k in self._data_b.keys() if selected_b + suffix in k]\n",
    "            # 'Land unit.modifier_1.Attack'\n",
    "            x = self._fuzzy_search(query, choices, n)\n",
    "            # '03'\n",
    "            answer_mod = self._data_b[x] if x else '00'\n",
    "        else:\n",
    "            answer_mod = '00'\n",
    "        return answer_mod\n",
    "\n",
    "    def _fuzzy_search(self, query: str, choices: list[str], n: int) -> str:\n",
    "        # TODO score_cutoff as a parameter\n",
    "        x = rapidfuzz.process.extract(query, choices, limit=n, score_cutoff=50)\n",
    "        return x[0][0] if x else ''\n",
    "   \n",
    "    def get_sidc(self, query_a: str, query_b: str, mod1='', mod2='') -> str:\n",
    "        \"\"\" query in set A treated like few separate words\n",
    "            query in set B treated like a single sentence\n",
    "            each modifier is a separate single word/sentence\n",
    "        \"\"\"\n",
    "        a = self._search_a(query_a)\n",
    "        b = self._search_b(query_b, mod1, mod2)\n",
    "        return a + b\n",
    "\n",
    "    def get_svg(self, sidc: str, size=35) -> str:\n",
    "        svg_text = self._ctx.eval(f'new ms.Symbol({sidc}, {{\"size\": {size}}}).asSVG()')\n",
    "        return svg_text\n",
    "\n",
    "    def save_png(self, svg_text: str, path_to_file: pathlib.Path) -> None:\n",
    "        cairosvg.svg2png(svg_text, write_to=path_to_file)"
   ]
  },
  {
   "cell_type": "markdown",
   "id": "2a7908b6-784d-41a2-844f-3847cae80a2d",
   "metadata": {},
   "source": [
    "### test"
   ]
  },
  {
   "cell_type": "code",
   "execution_count": 7,
   "id": "dd4bfe53-7df1-4e19-8749-4ba960503039",
   "metadata": {
    "scrolled": true
   },
   "outputs": [
    {
     "data": {
      "text/plain": [
       "'10061024141308016101'"
      ]
     },
     "execution_count": 7,
     "metadata": {},
     "output_type": "execute_result"
    }
   ],
   "source": [
    "# you need to download milsynbol.js\n",
    "x = SIDCFuzzySearcher('../json/set_a.json', '../json/set_b.json', 'milsymbol.js')\n",
    "\n",
    "query_a = \"Hostile Realty Land Present Platoon TaskForce\"\n",
    "query_b = \"mortar armored\"\n",
    "x.get_sidc(query_a, query_b, mod1='sniper', mod2='airborn')"
   ]
  },
  {
   "cell_type": "code",
   "execution_count": null,
   "id": "74f57eef-8db6-45cd-8d9c-3e0bfc1d2930",
   "metadata": {},
   "outputs": [],
   "source": []
  }
 ],
 "metadata": {
  "kernelspec": {
   "display_name": "fuzzy",
   "language": "python",
   "name": "fuzzy"
  },
  "language_info": {
   "codemirror_mode": {
    "name": "ipython",
    "version": 3
   },
   "file_extension": ".py",
   "mimetype": "text/x-python",
   "name": "python",
   "nbconvert_exporter": "python",
   "pygments_lexer": "ipython3",
   "version": "3.12.3"
  }
 },
 "nbformat": 4,
 "nbformat_minor": 5
}
