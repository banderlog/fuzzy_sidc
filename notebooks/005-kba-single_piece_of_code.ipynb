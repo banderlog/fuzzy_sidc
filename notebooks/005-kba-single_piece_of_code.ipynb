{
 "cells": [
  {
   "cell_type": "markdown",
   "id": "797d4d5b-a53d-4579-8646-00061d5c4712",
   "metadata": {},
   "source": [
    "# Make all in one package\n",
    "\n",
    "milsymbol.js: <https://github.com/spatialillusions/milsymbol/releases/tag/v2.2.0>"
   ]
  },
  {
   "cell_type": "code",
   "execution_count": 1,
   "id": "6b11106f-3211-46c7-af48-3056972351f4",
   "metadata": {},
   "outputs": [],
   "source": [
    "import json\n",
    "import pathlib\n",
    "import rapidfuzz\n",
    "from py_mini_racer import MiniRacer\n",
    "\n",
    "\n",
    "class SIDCFuzzySearcher:\n",
    "    def __init__(self, path_to_set_a: pathlib.Path, path_to_set_b: pathlib.Path, path_to_milsymbolsjs: pathlib.Path):\n",
    "        self.score_cutoff = 70  # threshold for rapidfuzz\n",
    "        # you may change it for your needs\n",
    "        #    version 1.0, reality, unknown, unknown, present, unknown, unknown\n",
    "        self.defaults_set_a = {'1': '1', '2': '0', '3': '0', '4': '1', '56': '00', '7': '0', '8': '0', '910': '00'}\n",
    "        self._data_a = self._load_json(path_to_set_a)\n",
    "        self._data_b = self._load_json(path_to_set_b)\n",
    "        self._ctx = self._load_js(path_to_milsymbolsjs)\n",
    "\n",
    "    def _load_json(self, path: pathlib.Path) -> dict:\n",
    "        with open(path, 'r') as fp:\n",
    "            return json.load(fp)\n",
    "\n",
    "    def _load_js(self, path: pathlib.Path) -> MiniRacer:\n",
    "        # get script from <https://github.com/spatialillusions/milsymbol/releases/tag/v2.2.0>\n",
    "        with open(path, 'r') as fp:\n",
    "            txt = fp.read()\n",
    "        ctx = MiniRacer()\n",
    "        ctx.eval(txt)\n",
    "        return ctx\n",
    "        \n",
    "    def _search_a(self, query: str, n=1, show_results=False) -> str:\n",
    "        \"\"\" query in set A treated like few separate words\n",
    "        \"\"\"\n",
    "        choices_a = self._data_a.keys()\n",
    "        # try to find each word separately, get uniq results\n",
    "        findings = set([self._fuzzy_search(q, choices_a, n, show_results) for q in query.split()])\n",
    "        # update default values\n",
    "        answer_a = self.defaults_set_a.copy()\n",
    "        # '3.Reality' is a key to self._data_a where '3' is a idx of set_a\n",
    "        #   self._data_a['3.Reality'] -> '0' \n",
    "        answer_a.update({f.split('.')[0]: self._data_a[f] for f in findings if f})\n",
    "        # format an answer string\n",
    "        a = f\"{answer_a['1']}{answer_a['2']}{answer_a['3']}{answer_a['4']}{answer_a['56']}{answer_a['7']}{answer_a['8']}{answer_a['910']}\"\n",
    "        return a\n",
    "    \n",
    "    def _search_b(self, query: str, mod1: str = '', mod2: str = '', n=1, show_results=False) -> str:\n",
    "        \"\"\" query in set B treated like a single sentence\n",
    "            each modifier is a separate single word/sentence\n",
    "        \"\"\"\n",
    "        choices = self._data_b.keys()\n",
    "        # try to find entity\n",
    "        #   'Land unit.Fires.Mortar.Armored/Mechanized/Tracked'\n",
    "        selected_key = self._fuzzy_search(query, choices, n, show_results)\n",
    "        #   '130801'\n",
    "        answer_b = self._data_b[selected_key] if selected_key else '000000'\n",
    "        #   'Land unit' -- prefix of selected_key\n",
    "        selected_b = selected_key.split('.')[0] if selected_key else selected_key\n",
    "        # try to find modifiers\n",
    "        answer_mod1 = self._search_b_mode(mod1, selected_b, suffix='.modifier_1', show_results=show_results)\n",
    "        answer_mod2 = self._search_b_mode(mod2, selected_b, suffix='.modifier_2', show_results=show_results)\n",
    "        # format an answer string\n",
    "        b = answer_b + answer_mod1 + answer_mod2\n",
    "        return b\n",
    "\n",
    "    def _search_b_mode(self, query: str | None, selected_b: str | None, suffix='.modifier_1', n=1, show_results=False) -> str:\n",
    "        if query and selected_b:\n",
    "            # ['Land unit.modifier_1.Attack', ..]\n",
    "            choices = [k for k in self._data_b.keys() if selected_b + suffix in k]\n",
    "            # 'Land unit.modifier_1.Attack'\n",
    "            x = self._fuzzy_search(query, choices, n, show_results)\n",
    "            # '03'\n",
    "            answer_mod = self._data_b[x] if x else '00'\n",
    "        else:\n",
    "            answer_mod = '00'\n",
    "        return answer_mod\n",
    "\n",
    "    def _fuzzy_search(self, query: str, choices: list[str], n: int, show_results: bool) -> str:\n",
    "        # TODO score_cutoff as a parameter\n",
    "        x = rapidfuzz.process.extract(query, choices, limit=n, score_cutoff=self.score_cutoff, scorer=rapidfuzz.fuzz.partial_ratio)\n",
    "        if show_results:\n",
    "            print(f\"{query}:\")\n",
    "            if x:\n",
    "                for i in x:\n",
    "                    print(f'\\t{i}')\n",
    "            else:\n",
    "                print('\\tNOTHING')\n",
    "        x = x[0][0] if x else ''\n",
    "        return x\n",
    "   \n",
    "    def get_sidc(self, query_a='', query_b='', mod1='', mod2='', show_results=False) -> str:\n",
    "        \"\"\" query in set A treated like few separate words\n",
    "            query in set B treated like a single sentence\n",
    "            each modifier is a separate single word/sentence\n",
    "        \"\"\"\n",
    "        a = self._search_a(query_a, show_results=show_results)\n",
    "        b = self._search_b(query_b, mod1, mod2, show_results=show_results)\n",
    "        return a + b\n",
    "\n",
    "    def get_svg(self, sidc: str, size=35) -> str:\n",
    "        svg_text = self._ctx.eval(f'new ms.Symbol({sidc}, {{\"size\": {size}}}).asSVG()')\n",
    "        return svg_text\n",
    "\n",
    "    def show_top_n(self, query, n=10) -> None:\n",
    "        print('IN SET A -- ', end='')\n",
    "        choices_a = self._data_a.keys()\n",
    "        _ = self._fuzzy_search(query, choices_a, n, True)\n",
    "        print('\\n', end='')\n",
    "        print('IN SET B -- ', end='')\n",
    "        choices_b = self._data_b.keys()\n",
    "        _ = self._fuzzy_search(query, choices_b, n, True)"
   ]
  },
  {
   "cell_type": "markdown",
   "id": "2a7908b6-784d-41a2-844f-3847cae80a2d",
   "metadata": {},
   "source": [
    "## Test 2525D"
   ]
  },
  {
   "cell_type": "code",
   "execution_count": 2,
   "id": "dd4bfe53-7df1-4e19-8749-4ba960503039",
   "metadata": {},
   "outputs": [
    {
     "name": "stdout",
     "output_type": "stream",
     "text": [
      "Hostile:\n",
      "\t('4.Hostile/Faker', 100.0, 11)\n",
      "Realty:\n",
      "\t('3.Reality', 83.33333333333334, 2)\n",
      "Land:\n",
      "\t('56.Land Unit', 100.0, 17)\n",
      "Present:\n",
      "\t('7.Present', 100.0, 35)\n",
      "Platoon:\n",
      "\t('910.Platoon/detachment', 100.0, 53)\n",
      "TaskForce:\n",
      "\t('8.Task Force', 88.88888888888889, 45)\n",
      "mortar armore:\n",
      "\t('Land unit.Fires.Mortar.Armored/Mechanized/Tracked', 76.92307692307692, 1566)\n",
      "sniper:\n",
      "\t('Land unit.modifier_1.Sniper', 90.9090909090909, 59)\n",
      "airborn:\n",
      "\t('Land unit.modifier_2.Airborne', 85.71428571428572, 1)\n"
     ]
    },
    {
     "data": {
      "text/plain": [
       "'10061004141308016101'"
      ]
     },
     "execution_count": 2,
     "metadata": {},
     "output_type": "execute_result"
    }
   ],
   "source": [
    "# you need to download milsynbol.js\n",
    "x = SIDCFuzzySearcher('../fuzzy_sidc/set_a.json', '../fuzzy_sidc/set_b_2525d.json', '../fuzzy_sidc/milsymbol.js')\n",
    "\n",
    "query_a = \"Hostile Realty Land Present Platoon TaskForce\"\n",
    "query_b = \"mortar armore\"\n",
    "x.get_sidc(query_a=query_a, query_b=query_b, mod1='sniper', mod2='airborn', show_results=True)"
   ]
  },
  {
   "cell_type": "code",
   "execution_count": 3,
   "id": "7c134991-ad34-457e-b0e2-e19865d6418b",
   "metadata": {},
   "outputs": [
    {
     "data": {
      "text/plain": [
       "'<svg xmlns=\"http://www.w3.org/2000/svg\" version=\"1.2\" baseProfile=\"tiny\" width=\"53.2\" height=\"67.2\" viewBox=\"24 -16 152 192\"><path d=\"M 100,28 L172,100 100,172 28,100 100,28 Z\" stroke-width=\"4\" stroke=\"black\" fill=\"rgb(255,128,128)\" fill-opacity=\"1\" ></path><circle cx=\"100\" cy=\"115\" r=\"5\" stroke-width=\"4\" stroke=\"black\" fill=\"none\" ></circle><path d=\"M100,111 l0,-30 M90,90 l10,-10 10,10\" stroke-width=\"4\" stroke=\"black\" fill=\"none\" ></path><path d=\"M 70,120 l 60,0 c10,0 10,10 0,10 l -60,0 c-10,0 -10,-10 0,-10\" stroke-width=\"4\" stroke=\"black\" fill=\"none\" ></path><path d=\"m 120,65 -11,0 m 11,10 -14,0 m 4,-14 -30,0 0,18 25,0 z m 10,2 0,14\" stroke-width=\"4\" stroke=\"black\" fill=\"none\" ></path><path d=\"M55,28 L55,-12 145,-12 145,28\" stroke-width=\"4\" stroke=\"black\" fill=\"none\" ></path><g transform=\"translate(0,0)\" stroke-width=\"4\" stroke=\"black\" fill=\"none\" ><circle cx=\"100\" cy=\"8\" r=\"7.5\" fill=\"black\" ></circle><circle cx=\"70\" cy=\"8\" r=\"7.5\" fill=\"black\" ></circle><circle cx=\"130\" cy=\"8\" r=\"7.5\" fill=\"black\" ></circle></g></svg>'"
      ]
     },
     "execution_count": 3,
     "metadata": {},
     "output_type": "execute_result"
    }
   ],
   "source": [
    "x.get_svg('10061004141308016101')"
   ]
  },
  {
   "cell_type": "code",
   "execution_count": 4,
   "id": "bb931925-4b69-4044-8fd6-3a3a5799a19f",
   "metadata": {},
   "outputs": [
    {
     "name": "stdout",
     "output_type": "stream",
     "text": [
      "IN SET A -- airborne:\n",
      "\tNOTHING\n",
      "\n",
      "IN SET B -- airborne:\n",
      "\t('Land unit.modifier_2.Airborne', 93.33333333333333, 1791)\n",
      "\t('Control Measures.Maneuver Areas.Axis of Advance.Friendly Airborne/Aviation', 87.5, 79)\n",
      "\t('Control Measures.Airspace Control Points.Airborne Early Warning (AEW) Station', 87.5, 130)\n",
      "\t('Signals intelligence.modifier_1.Airborne Search and Bombing', 87.5, 1363)\n",
      "\t('Signals intelligence.modifier_1.Airborne Intercept', 87.5, 1364)\n",
      "\t('Signals intelligence.modifier_1.Airborne Reconnaissance and Mapping', 87.5, 1366)\n",
      "\t('Air.Military.Fixed Wing.Airborne Command Post (ACP)', 87.5, 2168)\n",
      "\t('Air.Military.Fixed Wing.Airborne Early Warning (AEW)', 87.5, 2169)\n",
      "\t('Air.modifier_1.Airborne Command Post (ACP)', 87.5, 2215)\n",
      "\t('Air.modifier_1.Airborne Early Warning (AEW)', 87.5, 2216)\n"
     ]
    }
   ],
   "source": [
    "x.score_cutoff = 77\n",
    "x.show_top_n('airborne')"
   ]
  },
  {
   "cell_type": "markdown",
   "id": "90fa2fa0-bd0f-4485-925f-987e875d577c",
   "metadata": {},
   "source": [
    "## Test APP6D"
   ]
  },
  {
   "cell_type": "code",
   "execution_count": 5,
   "id": "b85abd55-f03a-40c1-8250-9918363d251f",
   "metadata": {},
   "outputs": [
    {
     "name": "stdout",
     "output_type": "stream",
     "text": [
      "Hostile:\n",
      "\t('4.Hostile/Faker', 100.0, 11)\n",
      "Realty:\n",
      "\t('3.Reality', 83.33333333333334, 2)\n",
      "Land:\n",
      "\t('56.Land Unit', 100.0, 17)\n",
      "Present:\n",
      "\t('7.Present', 100.0, 35)\n",
      "Platoon:\n",
      "\t('910.Platoon/detachment', 100.0, 53)\n",
      "TaskForce:\n",
      "\t('8.Task Force', 88.88888888888889, 45)\n",
      "mortar armore:\n",
      "\t('Land unit.Fires.Mortar.Armoured/Mechanized/ Tracked', 76.92307692307692, 1352)\n",
      "sniper:\n",
      "\t('Land unit.modifier_1.Sniper', 90.9090909090909, 61)\n",
      "airborn:\n",
      "\t('Land unit.modifier_2.Airborne', 85.71428571428572, 1)\n"
     ]
    },
    {
     "data": {
      "text/plain": [
       "'10061004141308016101'"
      ]
     },
     "execution_count": 5,
     "metadata": {},
     "output_type": "execute_result"
    }
   ],
   "source": [
    "# you need to download milsynbol.js\n",
    "x = SIDCFuzzySearcher('../fuzzy_sidc/set_a.json', '../fuzzy_sidc/set_b_app6d.json', '../fuzzy_sidc/milsymbol.js')\n",
    "\n",
    "query_a = \"Hostile Realty Land Present Platoon TaskForce\"\n",
    "query_b = \"mortar armore\"\n",
    "x.get_sidc(query_a=query_a, query_b=query_b, mod1='sniper', mod2='airborn', show_results=True)"
   ]
  },
  {
   "cell_type": "code",
   "execution_count": 6,
   "id": "bb94f3a4-c79e-4400-abed-98deea28fa5e",
   "metadata": {},
   "outputs": [
    {
     "name": "stdout",
     "output_type": "stream",
     "text": [
      "IN SET A -- airborne:\n",
      "\t('3.Simulation', 61.53846153846154, 4)\n",
      "\t('56.Land Civilian Unit/Organization', 61.53846153846154, 18)\n",
      "\t('56.Land Installation', 61.53846153846154, 20)\n",
      "\t('910.Battalion/squadron', 61.53846153846154, 55)\n",
      "\t('910.Wheeled and tracked combination', 61.53846153846154, 67)\n",
      "\t('56.Mine Warfare', 57.14285714285714, 24)\n",
      "\t('910.Section', 54.54545454545454, 52)\n",
      "\t('910.Division', 54.54545454545454, 58)\n",
      "\t('7.Present/Fully capable', 50.0, 37)\n",
      "\t('8.Task Force', 50.0, 45)\n",
      "\n",
      "IN SET B -- airborne:\n",
      "\t('Land unit.modifier_2.Airborne', 93.33333333333333, 1565)\n",
      "\t('Dismounted individual.modifier_2.Airborne', 93.33333333333333, 2006)\n",
      "\t('Control Measures.Manoeuvre Areas.Axis of Advance.Friendly Airborne/Aviation', 87.5, 95)\n",
      "\t('Control Measures.Airspace Control Points.Airborne Early Warning (AEW) Station', 87.5, 153)\n",
      "\t('Air.Military.Fixed Wing.Airborne Command Post (ACP)', 87.5, 2063)\n",
      "\t('Air.Military.Fixed Wing.Airborne Early Warning (AEW)', 87.5, 2064)\n",
      "\t('Air.modifier_1.Airborne Command Post (ACP)', 87.5, 2110)\n",
      "\t('Air.modifier_1.Airborne Early Warning (AEW)', 87.5, 2111)\n",
      "\t('Control Measures.Maritime Control Points.Harbour', 71.42857142857143, 215)\n",
      "\t('Sea surface.Military Non Combatant.Service Craft/Yard.Tug, Harbour', 71.42857142857143, 677)\n"
     ]
    }
   ],
   "source": [
    "x.score_cutoff = 50\n",
    "x.show_top_n('airborne')"
   ]
  }
 ],
 "metadata": {
  "kernelspec": {
   "display_name": "fuzzy",
   "language": "python",
   "name": "fuzzy"
  },
  "language_info": {
   "codemirror_mode": {
    "name": "ipython",
    "version": 3
   },
   "file_extension": ".py",
   "mimetype": "text/x-python",
   "name": "python",
   "nbconvert_exporter": "python",
   "pygments_lexer": "ipython3",
   "version": "3.12.3"
  }
 },
 "nbformat": 4,
 "nbformat_minor": 5
}
