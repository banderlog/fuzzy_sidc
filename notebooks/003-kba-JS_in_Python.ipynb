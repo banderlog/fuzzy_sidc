{
 "cells": [
  {
   "cell_type": "markdown",
   "id": "c3e45be3-961d-441f-b1b4-2163a095760f",
   "metadata": {},
   "source": [
    "# Use JS lib in Python to get SVG by SIDC\n",
    "\n",
    "- <https://github.com/kjellmf/sidc-picker>\n",
    "    - <https://sidc.milsymb.net/>\n",
    "    - <https://github.com/spatialillusions/stanag-app6>\n",
    "    - <https://github.com/spatialillusions/mil-std-2525>\n",
    "- <https://spatialillusions.com/unitgenerator/>\n",
    "    - <https://github.com/spatialillusions/milsymbol/releases/tag/v2.2.0>\n",
    "- <https://stackoverflow.com/questions/10136319/executing-javascript-from-python>\n",
    "    - <https://bpcreech.com/PyMiniRacer/>\n",
    "- <https://stackoverflow.com/questions/1014506/imagemagickerror-unable-to-read-font-null-null>\n",
    "    - <https://stackoverflow.com/a/21911955/7599215>\n",
    "- <https://stackoverflow.com/questions/9853325/how-to-convert-a-svg-to-a-png-with-imagemagick>\n",
    "    - <https://cairosvg.org/>\n",
    "- <https://stackoverflow.com/questions/5466451/how-do-i-escape-curly-brace-characters-characters-in-a-string-while-using>"
   ]
  },
  {
   "cell_type": "code",
   "execution_count": 1,
   "id": "7fee45d9-beca-4922-91c2-613790ee8ea7",
   "metadata": {},
   "outputs": [],
   "source": [
    "from py_mini_racer import MiniRacer\n",
    "import cairosvg"
   ]
  },
  {
   "cell_type": "markdown",
   "id": "cef22eed-85fe-49f4-bd2a-d7de4bc6c6a1",
   "metadata": {},
   "source": [
    "## Load milsymbol.js"
   ]
  },
  {
   "cell_type": "code",
   "execution_count": 2,
   "id": "d769ab1d-955f-48ea-ae2a-1aa397547ee7",
   "metadata": {
    "scrolled": true
   },
   "outputs": [
    {
     "data": {
      "text/plain": [
       "True"
      ]
     },
     "execution_count": 2,
     "metadata": {},
     "output_type": "execute_result"
    }
   ],
   "source": [
    "# https://github.com/spatialillusions/milsymbol/releases/tag/v2.2.0\n",
    "with open('milsymbol.js', 'r') as fp:\n",
    "    txt = fp.read()\n",
    "\n",
    "ctx = MiniRacer()\n",
    "\n",
    "ctx.eval(txt)"
   ]
  },
  {
   "cell_type": "markdown",
   "id": "3e68a82e-56f0-48cb-87b2-797ff3a7a36a",
   "metadata": {},
   "source": [
    "## Use it"
   ]
  },
  {
   "cell_type": "code",
   "execution_count": 3,
   "id": "6807623e-6562-4424-8c8a-bddfb8fc54c6",
   "metadata": {},
   "outputs": [],
   "source": [
    "sidc = 10012000001208010000\n",
    "# size not in pixels\n",
    "_ = ctx.eval(f'new ms.Symbol({sidc}, {{\"size\": 35}}).asSVG()')"
   ]
  },
  {
   "cell_type": "code",
   "execution_count": 4,
   "id": "602b5e80-f136-450c-b509-4a6cfc0ab38d",
   "metadata": {},
   "outputs": [
    {
     "name": "stdout",
     "output_type": "stream",
     "text": [
      "73.25\n",
      "83.25\n"
     ]
    }
   ],
   "source": [
    "sidc = 10012000001208010000\n",
    "# sidc = 10012500001409000000\n",
    "# sidc = 10012500001602000000\n",
    "ctx.eval(f'var mysymbol = new ms.Symbol({sidc})')\n",
    "print(ctx.eval('mysymbol.getAnchor().x'))\n",
    "print(ctx.eval('mysymbol.getAnchor().y'))\n",
    "svg_text = ctx.eval('mysymbol.asSVG()')"
   ]
  },
  {
   "cell_type": "code",
   "execution_count": 5,
   "id": "3ff6154c-040a-4ec8-bc7b-a03d39501295",
   "metadata": {},
   "outputs": [
    {
     "data": {
      "text/plain": [
       "'<svg xmlns=\"http://www.w3.org/2000/svg\" version=\"1.2\" baseProfile=\"tiny\" width=\"146.5\" height=\"156.5\" viewBox=\"26.75 16.75 146.5 156.5\"><path d=\"M63,63 C63,20 137,20 137,63 C180,63 180,137 137,137 C137,180 63,180 63,137 C20,137 20,63 63,63 Z\" stroke-width=\"4\" stroke=\"black\" fill=\"rgb(255,255,128)\" fill-opacity=\"1\" ></path><path d=\"m 75,85 50,30 m -50,0 50,-30\" stroke-width=\"4\" stroke=\"black\" fill=\"none\" ></path><text x=\"100\" y=\"77\" text-anchor=\"middle\" font-size=\"25\" font-family=\"Arial\" font-weight=\"bold\" stroke-width=\"4\" stroke=\"none\" fill=\"black\" >RES</text><path d=\"M85,30.75 85,20.75 115,20.75 115,30.75 100,26.75 Z\" stroke-width=\"4\" stroke=\"black\" fill=\"black\" ></path></svg>'"
      ]
     },
     "execution_count": 5,
     "metadata": {},
     "output_type": "execute_result"
    }
   ],
   "source": [
    "svg_text"
   ]
  },
  {
   "cell_type": "code",
   "execution_count": 6,
   "id": "6e14b0a4-63b9-43e9-b69a-91318e995532",
   "metadata": {
    "scrolled": true
   },
   "outputs": [
    {
     "name": "stdout",
     "output_type": "stream",
     "text": [
      "37.6 μs ± 3.11 μs per loop (mean ± std. dev. of 7 runs, 10,000 loops each)\n"
     ]
    }
   ],
   "source": [
    "%%timeit\n",
    "_ = ctx.eval(f'new ms.Symbol({sidc}).asSVG()')"
   ]
  },
  {
   "cell_type": "markdown",
   "id": "7c0e14b2-b86f-43dd-b287-76251e2d19bf",
   "metadata": {},
   "source": [
    "### svg2png"
   ]
  },
  {
   "cell_type": "code",
   "execution_count": 7,
   "id": "13eaf4e4-5ad7-45c7-b718-71d4eea4c37c",
   "metadata": {},
   "outputs": [],
   "source": [
    "# without write_to you'll get a buffer\n",
    "cairosvg.svg2png(svg_text, write_to='tmp2.png')"
   ]
  },
  {
   "cell_type": "markdown",
   "id": "52d6351f-3b36-4660-9dab-3c6fdc93e8c4",
   "metadata": {},
   "source": [
    "## Errors"
   ]
  },
  {
   "cell_type": "code",
   "execution_count": 8,
   "id": "c9b0c314-1d35-4bc7-a1ca-4c6cfd2c5311",
   "metadata": {},
   "outputs": [],
   "source": [
    "import traceback\n",
    "import logging"
   ]
  },
  {
   "cell_type": "code",
   "execution_count": 9,
   "id": "e3c948d1-65b5-4659-a073-3ffaa0f084bf",
   "metadata": {},
   "outputs": [
    {
     "name": "stderr",
     "output_type": "stream",
     "text": [
      "ERROR:root:py_mini_racer._value_handle.JSParseException: <anonymous>:1: SyntaxError: Invalid or unexpected token\n",
      "new ms.Symbol(100sd0, {\"size\": 35}).asSVG()\n",
      "              ^^^\n",
      "\n",
      "SyntaxError: Invalid or unexpected token\n",
      "\n",
      "\n"
     ]
    }
   ],
   "source": [
    "try:\n",
    "    _ = ctx.eval('new ms.Symbol(100sd0, {\"size\": 35}).asSVG()')\n",
    "except Exception as e:\n",
    "    logging.error(''.join(traceback.format_exception_only(e)))"
   ]
  },
  {
   "cell_type": "code",
   "execution_count": null,
   "id": "23d8d268-2565-42db-a1e7-c90b62781ba5",
   "metadata": {},
   "outputs": [],
   "source": []
  }
 ],
 "metadata": {
  "kernelspec": {
   "display_name": "fuzzy",
   "language": "python",
   "name": "fuzzy"
  },
  "language_info": {
   "codemirror_mode": {
    "name": "ipython",
    "version": 3
   },
   "file_extension": ".py",
   "mimetype": "text/x-python",
   "name": "python",
   "nbconvert_exporter": "python",
   "pygments_lexer": "ipython3",
   "version": "3.12.3"
  }
 },
 "nbformat": 4,
 "nbformat_minor": 5
}
